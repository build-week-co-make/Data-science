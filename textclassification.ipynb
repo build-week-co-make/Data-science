{
 "cells": [
  {
   "cell_type": "code",
   "execution_count": 3,
   "metadata": {},
   "outputs": [],
   "source": [
    "import re\n",
    "import string"
   ]
  },
  {
   "cell_type": "code",
   "execution_count": 4,
   "metadata": {},
   "outputs": [],
   "source": [
    "from sklearn.feature_extraction.text import TfidfVectorizer\n",
    "from sklearn.cluster import KMeans\n",
    "\n",
    "\n",
    "all_text  =  \"\"\"\n",
    "    Google and Facebook are strangling the free press to death. Democracy is the loserGoogle an \n",
    "    Your 60-second guide to security stuff Google touted today at Next '18\n",
    "    A Guide to Using Android Without Selling Your Soul to Google\n",
    "    Review: Lenovo’s Google Smart Display is pretty and intelligent\n",
    "    Google Maps user spots mysterious object submerged off the coast of Greece - and no-one knows what it is\n",
    "    Android is better than IOS\n",
    "    In information retrieval, tf–idf or TFIDF, short for term frequency–inverse document frequency\n",
    "    is a numerical statistic that is intended to reflect\n",
    "    how important a word is to a document in a collection or corpus.\n",
    "    It is often used as a weighting factor in searches of information retrieval\n",
    "    text mining, and user modeling. The tf-idf value increases proportionally\n",
    "    to the number of times a word appears in the document\n",
    "    and is offset by the frequency of the word in the corpus\n",
    "\"\"\".split(\"\\n\")[1:-1]\n",
    "# Preprocessing and tokenizing\n",
    "def preprocessing(line):\n",
    "    line = line.lower()\n",
    "    line = re.sub(r\"[{}]\".format(string.punctuation), \" \", line)\n",
    "    return line"
   ]
  },
  {
   "cell_type": "code",
   "execution_count": 5,
   "metadata": {},
   "outputs": [],
   "source": [
    "tfidf_vectorizer = TfidfVectorizer(preprocessor=preprocessing)\n",
    "tfidf = tfidf_vectorizer.fit_transform(all_text)\n",
    "\n",
    "kmeans = KMeans(n_clusters=2).fit(tfidf)"
   ]
  },
  {
   "cell_type": "code",
   "execution_count": 6,
   "metadata": {},
   "outputs": [
    {
     "data": {
      "text/plain": [
       "array([1, 0])"
      ]
     },
     "execution_count": 6,
     "metadata": {},
     "output_type": "execute_result"
    }
   ],
   "source": [
    "lines_for_predicting = [\"tf and idf is awesome!\", \"some androids is there\"]\n",
    "kmeans.predict(tfidf_vectorizer.transform(lines_for_predicting))"
   ]
  },
  {
   "cell_type": "code",
   "execution_count": 64,
   "metadata": {},
   "outputs": [
    {
     "name": "stdout",
     "output_type": "stream",
     "text": [
      "Top terms per cluster:\n",
      "Cluster 0:\n",
      " park\n",
      " looks\n",
      " gone\n",
      " ugly\n",
      " grass\n",
      " pretty\n",
      " lane\n",
      " huge\n",
      " hov\n",
      " hard\n",
      "Cluster 1:\n",
      " trash\n",
      " stop\n",
      " littered\n",
      " mountain\n",
      " trails\n",
      " 43rd\n",
      " piling\n",
      " upside\n",
      " street\n",
      " bunch\n",
      "Cluster 2:\n",
      " pothole\n",
      " years\n",
      " middle\n",
      " lane\n",
      " huge\n",
      " hov\n",
      " road\n",
      " trees\n",
      " way\n",
      " hard\n",
      "\n",
      "\n",
      "Prediction\n",
      "[2]\n",
      "[1]\n",
      "[2]\n"
     ]
    }
   ],
   "source": [
    "from sklearn.feature_extraction.text import TfidfVectorizer\n",
    "from sklearn.cluster import KMeans\n",
    "from sklearn.metrics import adjusted_rand_score\n",
    "\n",
    "documents = [\"There is a pothole here in the middle of the road, it's been here for years.\",\n",
    "             \"There is a bunch of trash piling up near the bus stop.\",\n",
    "             \"The grass at the park is pretty much all gone the park looks so ugly.\",\n",
    "             \"There is a huge pothole in the HOV lane.\",\n",
    "             \"These trees are in the way so it's hard to see if cars are coming.\",\n",
    "             \"The fence around the baseball feild has been slowly breaking down.\",\n",
    "             \"The stop sign in 43rd and road street is upside down.\",\n",
    "             \"The trails on mountain X are littered with trash.\"]\n",
    "\n",
    "vectorizer = TfidfVectorizer(stop_words='english', min_df=0.01, max_df=0.9, max_features=None)\n",
    "X = vectorizer.fit_transform(documents)\n",
    "\n",
    "true_k = 3\n",
    "model = KMeans(n_clusters=true_k, init='k-means++', max_iter=100, n_init=1)\n",
    "model.fit(X)\n",
    "\n",
    "print(\"Top terms per cluster:\")\n",
    "order_centroids = model.cluster_centers_.argsort()[:, ::-1]\n",
    "terms = vectorizer.get_feature_names()\n",
    "for i in range(true_k):\n",
    "    print(\"Cluster %d:\" % i),\n",
    "    for ind in order_centroids[i, :10]:\n",
    "        print(' %s' % terms[ind]),\n",
    "    print\n",
    "\n",
    "print(\"\\n\")\n",
    "print(\"Prediction\")\n",
    "\n",
    "Y = vectorizer.transform([\"yet another pothole in the road.\"])\n",
    "prediction = model.predict(Y)\n",
    "print(prediction)\n",
    "\n",
    "Y = vectorizer.transform([\"There is too much trash here.\"])\n",
    "prediction = model.predict(Y)\n",
    "print(prediction)\n",
    "\n",
    "Y = vectorizer.transform([\"I can't see down the road dumpster in the way.\"])\n",
    "prediction = model.predict(Y)\n",
    "print(prediction)\n",
    " "
   ]
  },
  {
   "cell_type": "code",
   "execution_count": 73,
   "metadata": {},
   "outputs": [
    {
     "name": "stdout",
     "output_type": "stream",
     "text": [
      "Top terms per cluster:\n",
      "Cluster 0:\n",
      " trash\n",
      " park\n",
      " hov\n",
      " trails\n",
      " huge\n",
      " lane\n",
      " littered\n",
      " mountain\n",
      " coming\n",
      " hard\n",
      "Cluster 1:\n",
      " slowly\n",
      " baseball\n",
      " breaking\n",
      " feild\n",
      " fence\n",
      " gone\n",
      " lane\n",
      " huge\n",
      " hov\n",
      " hard\n",
      "Cluster 2:\n",
      " road\n",
      " years\n",
      " middle\n",
      " pothole\n",
      " 43rd\n",
      " street\n",
      " sign\n",
      " upside\n",
      " stop\n",
      " coming\n",
      "\n",
      "\n",
      "Prediction\n",
      "[2]\n",
      "[0]\n",
      "[2]\n",
      "\n",
      "Top terms per cluster:\n",
      "Cluster 0:\n",
      " trash\n",
      " trail\n",
      " stop\n",
      " bus\n",
      " way\n",
      " trees\n",
      " stopsign\n",
      " pothole\n",
      " park\n",
      " huge\n",
      "Cluster 1:\n",
      " pothole\n",
      " huge\n",
      " way\n",
      " trees\n",
      " trash\n",
      " trail\n",
      " stopsign\n",
      " stop\n",
      " park\n",
      " grass\n",
      "Cluster 2:\n",
      " way\n",
      " trees\n",
      " stopsign\n",
      " park\n",
      " grass\n",
      " fence\n",
      " broken\n",
      " breaking\n",
      " trash\n",
      " trail\n",
      "\n",
      "\n",
      "Prediction\n",
      "[1]\n",
      "[2]\n",
      "[0]\n"
     ]
    }
   ],
   "source": [
    "from sklearn.feature_extraction.text import TfidfVectorizer\n",
    "from sklearn.cluster import KMeans\n",
    "from sklearn.metrics import adjusted_rand_score\n",
    "\n",
    "description = [\"There is a pothole here in the middle of the road, it's been here for years.\",\n",
    "             \"There is a bunch of trash piling up near the bus stop.\",\n",
    "             \"The grass at the park is pretty much all gone the park looks so ugly.\",\n",
    "             \"There is a huge pothole in the HOV lane.\",\n",
    "             \"These trees are in the way so it's hard to see if cars are coming.\",\n",
    "             \"The fence around the baseball feild has been slowly breaking down.\",\n",
    "             \"The stop sign in 43rd and road street is upside down.\",\n",
    "             \"The trails on mountain X are littered with trash.\"]\n",
    "\n",
    "title = [\"Pothole\",\n",
    "         \"Bus stop trash\",\n",
    "         \"No grass at the park\",\n",
    "         \"Huge pothole\",\n",
    "         \"Trees in the way\",\n",
    "         \"Breaking fence\",\n",
    "         \"broken stopsign\",\n",
    "         \"Trash on trail\"]\n",
    "\n",
    "vectorizer = TfidfVectorizer(stop_words='english', min_df=0.01, max_df=0.9, max_features=None)\n",
    "X = vectorizer.fit_transform(description)\n",
    "\n",
    "true_k = 3\n",
    "model = KMeans(n_clusters=true_k, init='k-means++', max_iter=100, n_init=1)\n",
    "model.fit(X)\n",
    "\n",
    "print(\"Top terms per cluster:\")\n",
    "order_centroids = model.cluster_centers_.argsort()[:, ::-1]\n",
    "terms = vectorizer.get_feature_names()\n",
    "for i in range(true_k):\n",
    "    print(\"Cluster %d:\" % i),\n",
    "    for ind in order_centroids[i, :10]:\n",
    "        print(' %s' % terms[ind]),\n",
    "    print\n",
    "\n",
    "print(\"\\n\")\n",
    "print(\"Prediction\")\n",
    "\n",
    "Y = vectorizer.transform([\"yet another pothole in the road.\"])\n",
    "prediction = model.predict(Y)\n",
    "print(prediction)\n",
    "\n",
    "Y = vectorizer.transform([\"There is too much trash here.\"])\n",
    "prediction = model.predict(Y)\n",
    "print(prediction)\n",
    "\n",
    "Y = vectorizer.transform([\"I can't see down the road dumpster in the way.\"])\n",
    "prediction = model.predict(Y)\n",
    "print(prediction)\n",
    "\n",
    "X_title = vectorizer.fit_transform(title)\n",
    "model2 = KMeans(n_clusters=true_k, init='k-means++')\n",
    "model2.fit(X_title)\n",
    "\n",
    "print(\"\\nTop terms per cluster:\")\n",
    "order_centroids = model2.cluster_centers_.argsort()[:, ::-1]\n",
    "terms = vectorizer.get_feature_names()\n",
    "for i in range(true_k):\n",
    "    print(\"Cluster %d:\" % i),\n",
    "    for ind in order_centroids[i, :10]:\n",
    "        print(' %s' % terms[ind]),\n",
    "    print\n",
    "\n",
    "print(\"\\n\")\n",
    "print(\"Prediction\")\n",
    "\n",
    "Y = vectorizer.transform([\"Pothole\"])\n",
    "prediction = model2.predict(Y)\n",
    "print(prediction)\n",
    "\n",
    "Y = vectorizer.transform([\"Broken sign\"])\n",
    "prediction = model2.predict(Y)\n",
    "print(prediction)\n",
    "\n",
    "Y = vectorizer.transform([\"Too mush trash\"])\n",
    "prediction = model2.predict(Y)\n",
    "print(prediction)\n",
    " "
   ]
  },
  {
   "cell_type": "code",
   "execution_count": 3,
   "metadata": {},
   "outputs": [
    {
     "name": "stdout",
     "output_type": "stream",
     "text": [
      "Top terms per cluster:\n",
      "Cluster 0:\n",
      " trash\n",
      " stop\n",
      " park\n",
      " breaking\n",
      " fence\n",
      " bus\n",
      " grass\n",
      " mountain\n",
      " trails\n",
      " trail\n",
      "Cluster 1:\n",
      " way\n",
      " trees\n",
      " hard\n",
      " cars\n",
      " coming\n",
      " gone\n",
      " littered\n",
      " lane\n",
      " huge\n",
      " hov\n",
      "Cluster 2:\n",
      " pothole\n",
      " huge\n",
      " years\n",
      " middle\n",
      " road\n",
      " lane\n",
      " hov\n",
      " broken\n",
      " littered\n",
      " baseball\n",
      "\n",
      "\n",
      "Prediction\n",
      "[2]\n",
      "[0]\n",
      "[1]\n"
     ]
    }
   ],
   "source": [
    "title = [\"Pothole\",\n",
    "         \"Bus stop trash\",\n",
    "         \"No grass at the park\",\n",
    "         \"Huge pothole\",\n",
    "         \"Trees in the way\",\n",
    "         \"Breaking fence\",\n",
    "         \"broken stopsign\",\n",
    "         \"Trash on trail\"]\n",
    "from sklearn.feature_extraction.text import TfidfVectorizer\n",
    "from sklearn.cluster import KMeans\n",
    "from sklearn.metrics import adjusted_rand_score\n",
    "\n",
    "documents = [\"Pothole: There is a pothole here in the middle of the road, it's been here for years.\",\n",
    "             \"Bus stop trash: There is a bunch of trash piling up near the bus stop.\",\n",
    "             \"No grass at the park:  The grass at the park is pretty much all gone the park looks so ugly.\",\n",
    "             \"Huge pothole: There is a huge pothole in the HOV lane.\",\n",
    "             \"Trees in the way: These trees are in the way so it's hard to see if cars are coming.\",\n",
    "             \"Breaking fence: The fence around the baseball feild has been slowly breaking down.\",\n",
    "             \"broken stopsign:The stop sign in 43rd and road street is upside down.\",\n",
    "             \"Trash on trail: The trails on mountain X are littered with trash.\"]\n",
    "\n",
    "vectorizer = TfidfVectorizer(stop_words='english', min_df=0.01, max_df=0.9, max_features=None)\n",
    "X = vectorizer.fit_transform(documents)\n",
    "\n",
    "true_k = 3\n",
    "model = KMeans(n_clusters=true_k, init='k-means++', max_iter=100, n_init=1)\n",
    "model.fit(X)\n",
    "\n",
    "print(\"Top terms per cluster:\")\n",
    "order_centroids = model.cluster_centers_.argsort()[:, ::-1]\n",
    "terms = vectorizer.get_feature_names()\n",
    "for i in range(true_k):\n",
    "    print(\"Cluster %d:\" % i),\n",
    "    for ind in order_centroids[i, :10]:\n",
    "        print(' %s' % terms[ind]),\n",
    "    print\n",
    "\n",
    "print(\"\\n\")\n",
    "print(\"Prediction\")\n",
    "\n",
    "Y = vectorizer.transform([\"yet another pothole in the road.\"])\n",
    "prediction = model.predict(Y)\n",
    "print(prediction)\n",
    "\n",
    "Y = vectorizer.transform([\"There is too much trash here.\"])\n",
    "prediction = model.predict(Y)\n",
    "print(prediction)\n",
    "\n",
    "Y = vectorizer.transform([\"I can't see down the road dumpster in the way.\"])\n",
    "prediction = model.predict(Y)\n",
    "print(prediction)\n",
    " "
   ]
  },
  {
   "cell_type": "code",
   "execution_count": 4,
   "metadata": {},
   "outputs": [],
   "source": [
    "import pickle \n",
    "filename = 'TfIdf_kmeans'\n",
    "pickle.dump(model, open(filename, 'wb'))"
   ]
  },
  {
   "cell_type": "code",
   "execution_count": 26,
   "metadata": {},
   "outputs": [
    {
     "data": {
      "text/html": [
       "<div>\n",
       "<style scoped>\n",
       "    .dataframe tbody tr th:only-of-type {\n",
       "        vertical-align: middle;\n",
       "    }\n",
       "\n",
       "    .dataframe tbody tr th {\n",
       "        vertical-align: top;\n",
       "    }\n",
       "\n",
       "    .dataframe thead th {\n",
       "        text-align: right;\n",
       "    }\n",
       "</style>\n",
       "<table border=\"1\" class=\"dataframe\">\n",
       "  <thead>\n",
       "    <tr style=\"text-align: right;\">\n",
       "      <th></th>\n",
       "      <th>Unnamed: 0</th>\n",
       "      <th>text</th>\n",
       "      <th>label</th>\n",
       "    </tr>\n",
       "  </thead>\n",
       "  <tbody>\n",
       "    <tr>\n",
       "      <th>2094</th>\n",
       "      <td>0</td>\n",
       "      <td>Good street and sidewalk design improves publ...</td>\n",
       "      <td>roads</td>\n",
       "    </tr>\n",
       "    <tr>\n",
       "      <th>2095</th>\n",
       "      <td>1</td>\n",
       "      <td>Summary</td>\n",
       "      <td>roads</td>\n",
       "    </tr>\n",
       "    <tr>\n",
       "      <th>2096</th>\n",
       "      <td>2</td>\n",
       "      <td>Track Record</td>\n",
       "      <td>roads</td>\n",
       "    </tr>\n",
       "    <tr>\n",
       "      <th>2097</th>\n",
       "      <td>3</td>\n",
       "      <td>Typical End Users</td>\n",
       "      <td>roads</td>\n",
       "    </tr>\n",
       "    <tr>\n",
       "      <th>2098</th>\n",
       "      <td>4</td>\n",
       "      <td>Conservation Impact</td>\n",
       "      <td>roads</td>\n",
       "    </tr>\n",
       "  </tbody>\n",
       "</table>\n",
       "</div>"
      ],
      "text/plain": [
       "      Unnamed: 0                                               text  label\n",
       "2094           0   Good street and sidewalk design improves publ...  roads\n",
       "2095           1                                           Summary   roads\n",
       "2096           2                                      Track Record   roads\n",
       "2097           3                                 Typical End Users   roads\n",
       "2098           4                               Conservation Impact   roads"
      ]
     },
     "execution_count": 26,
     "metadata": {},
     "output_type": "execute_result"
    }
   ],
   "source": [
    "import pandas as pd\n",
    "df = pd.read_csv('train_test.csv')\n",
    "df[df['label']=='roads'][:5]"
   ]
  },
  {
   "cell_type": "code",
   "execution_count": 30,
   "metadata": {},
   "outputs": [
    {
     "data": {
      "text/plain": [
       "' Good street and sidewalk design improves public safety, accommodates a variety of users, reduces environmental impacts, and enhances community character. '"
      ]
     },
     "execution_count": 30,
     "metadata": {},
     "output_type": "execute_result"
    }
   ],
   "source": [
    "data[2094]"
   ]
  },
  {
   "cell_type": "code",
   "execution_count": 13,
   "metadata": {},
   "outputs": [
    {
     "data": {
      "text/plain": [
       "array(['environment', 'safety', 'community', 'roads'], dtype=object)"
      ]
     },
     "execution_count": 13,
     "metadata": {},
     "output_type": "execute_result"
    }
   ],
   "source": [
    "df['label'].unique()"
   ]
  },
  {
   "cell_type": "code",
   "execution_count": 12,
   "metadata": {},
   "outputs": [
    {
     "data": {
      "text/plain": [
       "['Free Natural Parenting Magazine - Positive Parenting - Green Living - Holistic Wellness ',\n",
       " '7 Ways to Keep Our Environment Clean and Safe ',\n",
       " 'With environmental issues like water contamination, pollution, and climate change, it’s natural to look for ways we can reverse the damage to our planet and keep our environment clean. Many of us think we’re too small to make a difference, but when enough of us take action, we’ve seen the positive results we can create. ',\n",
       " 'Today we’re looking at the steps – big and small – you can take to keep our environment clean and safe. ',\n",
       " 'Make your voice heard: vote, sign petitions, contact your leaders ']"
      ]
     },
     "execution_count": 12,
     "metadata": {},
     "output_type": "execute_result"
    }
   ],
   "source": [
    "data = []\n",
    "\n",
    "for i in range(len(df['text'])):\n",
    "    data.append(df['text'][i])\n",
    "data[:5]"
   ]
  },
  {
   "cell_type": "code",
   "execution_count": 113,
   "metadata": {},
   "outputs": [
    {
     "data": {
      "text/plain": [
       "KMeans(algorithm='auto', copy_x=True, init='k-means++', max_iter=1000,\n",
       "    n_clusters=4, n_init=20, n_jobs=None, precompute_distances='auto',\n",
       "    random_state=None, tol=0.0001, verbose=0)"
      ]
     },
     "execution_count": 113,
     "metadata": {},
     "output_type": "execute_result"
    }
   ],
   "source": [
    "from sklearn.feature_extraction.text import TfidfVectorizer, TfidfTransformer\n",
    "from sklearn.cluster import KMeans\n",
    "from sklearn.metrics import adjusted_rand_score\n",
    "\n",
    "vectorizer = TfidfVectorizer(stop_words='english', min_df=0.01, max_df=0.89, max_features=20000)\n",
    "X = vectorizer.fit_transform(data)\n",
    "true_k = 4\n",
    "model = KMeans(n_clusters=true_k, init='k-means++', max_iter=1000, n_init=20)\n",
    "model.fit(X)"
   ]
  },
  {
   "cell_type": "code",
   "execution_count": 114,
   "metadata": {},
   "outputs": [
    {
     "name": "stdout",
     "output_type": "stream",
     "text": [
      "Top terms per cluster:\n",
      "Cluster 0:\n",
      " energy\n",
      " renewable\n",
      " solar\n",
      " electricity\n",
      " wind\n",
      " power\n",
      " sources\n",
      " generation\n",
      " states\n",
      " fuels\n",
      "Cluster 1:\n",
      " community\n",
      " hazard\n",
      " use\n",
      " environmental\n",
      " used\n",
      " section\n",
      " design\n",
      " curb\n",
      " way\n",
      " day\n",
      "Cluster 2:\n",
      " safety\n",
      " health\n",
      " occupational\n",
      " hazards\n",
      " workplace\n",
      " work\n",
      " workers\n",
      " hazard\n",
      " national\n",
      " employees\n",
      "Cluster 3:\n",
      " event\n",
      " attendees\n",
      " local\n",
      " ideas\n",
      " make\n",
      " events\n",
      " corporate\n",
      " community\n",
      " people\n",
      " social\n",
      "\n",
      "\n",
      "Prediction\n",
      "[1]\n",
      "[1]\n",
      "[1]\n"
     ]
    }
   ],
   "source": [
    "print(\"Top terms per cluster:\")\n",
    "order_centroids = model.cluster_centers_.argsort()[:, ::-1]\n",
    "terms = vectorizer.get_feature_names()\n",
    "for i in range(true_k):\n",
    "    print(\"Cluster %d:\" % i),\n",
    "    for ind in order_centroids[i, :10]:\n",
    "        print(' %s' % terms[ind]),\n",
    "    print\n",
    "\n",
    "print(\"\\n\")\n",
    "print(\"Prediction\")\n",
    "\n",
    "Y = vectorizer.transform([\"7 Ways to Keep Our Environment Clean and Safe\"])\n",
    "prediction = model.predict(Y)\n",
    "print(prediction)\n",
    "\n",
    "Y = vectorizer.transform([\"With environmental issues like water contamination, pollution, and climate change, it’s natural to look for ways we can reverse the damage to our planet and keep our environment clean. Many of us think we’re too small to make a difference, but when enough of us take action, we’ve seen the positive results we can create.\"])\n",
    "prediction = model.predict(Y)\n",
    "print(prediction)\n",
    "\n",
    "Y = vectorizer.transform([\"Make your voice heard: vote, sign petitions, contact your leaders \"])\n",
    "prediction = model.predict(Y)\n",
    "print(prediction)\n",
    " "
   ]
  },
  {
   "cell_type": "code",
   "execution_count": 115,
   "metadata": {},
   "outputs": [
    {
     "name": "stdout",
     "output_type": "stream",
     "text": [
      "\n",
      "\n",
      "Prediction\n",
      "[1]\n",
      "[1]\n",
      "[2]\n"
     ]
    }
   ],
   "source": [
    "print(\"\\n\")\n",
    "print(\"Prediction\")\n",
    "\n",
    "Y = vectorizer.transform([\"Good street and sidewalk design improves public safety, accommodates a variety of users, reduces environmental impacts, and enhances community character\"])\n",
    "prediction = model.predict(Y)\n",
    "print(prediction)\n",
    "\n",
    "Y = vectorizer.transform([\"There is too much trash here. It stinks over here\"])\n",
    "prediction = model.predict(Y)\n",
    "print(prediction)\n",
    "\n",
    "Y = vectorizer.transform([\"I can't see down the road dumpster in the way. this is a safety hazard\"])\n",
    "prediction = model.predict(Y)\n",
    "print(prediction)\n",
    " "
   ]
  },
  {
   "cell_type": "code",
   "execution_count": 123,
   "metadata": {},
   "outputs": [
    {
     "data": {
      "text/plain": [
       "PCA(copy=True, iterated_power='auto', n_components=2, random_state=None,\n",
       "  svd_solver='auto', tol=0.0, whiten=False)"
      ]
     },
     "execution_count": 123,
     "metadata": {},
     "output_type": "execute_result"
    }
   ],
   "source": [
    "from sklearn.decomposition import PCA\n",
    "import matplotlib.pyplot as plt\n",
    "X = vectorizer.transform(data)\n",
    "pca = PCA(n_components=2)\n",
    "pca.fit(X.toarray())"
   ]
  },
  {
   "cell_type": "code",
   "execution_count": 117,
   "metadata": {},
   "outputs": [],
   "source": [
    "x = pca.components_[0]\n",
    "y = pca.components_[1]"
   ]
  },
  {
   "cell_type": "code",
   "execution_count": 118,
   "metadata": {},
   "outputs": [
    {
     "data": {
      "text/plain": [
       "[<matplotlib.lines.Line2D at 0x1ebf2178ef0>]"
      ]
     },
     "execution_count": 118,
     "metadata": {},
     "output_type": "execute_result"
    },
    {
     "data": {
      "image/png": "[encoded data removed]",
      "text/plain": [
       "<Figure size 432x288 with 1 Axes>"
      ]
     },
     "metadata": {
      "needs_background": "light"
     },
     "output_type": "display_data"
    }
   ],
   "source": [
    "plt.plot(x, y, 'bo')"
   ]
  },
  {
   "cell_type": "code",
   "execution_count": 119,
   "metadata": {},
   "outputs": [
    {
     "data": {
      "text/plain": [
       "199"
      ]
     },
     "execution_count": 119,
     "metadata": {},
     "output_type": "execute_result"
    }
   ],
   "source": [
    "len(model.cluster_centers_[0])"
   ]
  },
  {
   "cell_type": "code",
   "execution_count": 124,
   "metadata": {},
   "outputs": [
    {
     "data": {
      "text/plain": [
       "TruncatedSVD(algorithm='randomized', n_components=3, n_iter=7,\n",
       "       random_state=42, tol=0.0)"
      ]
     },
     "execution_count": 124,
     "metadata": {},
     "output_type": "execute_result"
    }
   ],
   "source": [
    "from sklearn.decomposition import TruncatedSVD\n",
    "svd = TruncatedSVD(n_components=3, n_iter=7, random_state=42)\n",
    "svd.fit(X)"
   ]
  },
  {
   "cell_type": "code",
   "execution_count": 128,
   "metadata": {},
   "outputs": [
    {
     "data": {
      "text/plain": [
       "<mpl_toolkits.mplot3d.art3d.Path3DCollection at 0x1ebf5f62fd0>"
      ]
     },
     "execution_count": 128,
     "metadata": {},
     "output_type": "execute_result"
    },
    {
     "data": {
      "image/png": "[encoded data removed]",
      "text/plain": [
       "<Figure size 432x288 with 1 Axes>"
      ]
     },
     "metadata": {
      "needs_background": "light"
     },
     "output_type": "display_data"
    }
   ],
   "source": [
    "from mpl_toolkits.mplot3d import Axes3D\n",
    "x = svd.components_[0]\n",
    "y = svd.components_[1]\n",
    "z = svd.components_[2]\n",
    "\n",
    "fig = plt.figure()\n",
    "ax = fig.add_subplot(111, projection='3d')\n",
    "ax.scatter(x, y, z, c='r', marker='o')\n"
   ]
  }
 ],
 "metadata": {
  "kernelspec": {
   "display_name": "Python 3",
   "language": "python",
   "name": "python3"
  },
  "language_info": {
   "codemirror_mode": {
    "name": "ipython",
    "version": 3
   },
   "file_extension": ".py",
   "mimetype": "text/x-python",
   "name": "python",
   "nbconvert_exporter": "python",
   "pygments_lexer": "ipython3",
   "version": "3.7.3"
  }
 },
 "nbformat": 4,
 "nbformat_minor": 2
}
